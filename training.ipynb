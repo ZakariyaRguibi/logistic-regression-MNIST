{
 "cells": [
  {
   "cell_type": "markdown",
   "metadata": {},
   "source": [
    "loading libs"
   ]
  },
  {
   "cell_type": "code",
   "execution_count": null,
   "metadata": {},
   "outputs": [],
   "source": [
    "import DataLoad as dl\n",
    "\n",
    "from sklearn.linear_model import LogisticRegression\n",
    "\n",
    "import pickle"
   ]
  },
  {
   "cell_type": "markdown",
   "metadata": {},
   "source": [
    "\n",
    "loading data"
   ]
  },
  {
   "cell_type": "code",
   "execution_count": null,
   "metadata": {},
   "outputs": [],
   "source": [
    "\n",
    "data = dl.loadMnistTraining()\n",
    "\n"
   ]
  },
  {
   "cell_type": "code",
   "execution_count": null,
   "metadata": {},
   "outputs": [],
   "source": [
    "labels=[item[0] for item in data]\n",
    "imageData=[item[1:] for item in data]"
   ]
  },
  {
   "cell_type": "markdown",
   "metadata": {},
   "source": [
    "training"
   ]
  },
  {
   "cell_type": "code",
   "execution_count": null,
   "metadata": {},
   "outputs": [],
   "source": [
    "logisticRegr = LogisticRegression(max_iter=10000)\n",
    "\n",
    "logisticRegr.fit(imageData, labels)"
   ]
  },
  {
   "cell_type": "markdown",
   "metadata": {},
   "source": []
  },
  {
   "cell_type": "code",
   "execution_count": null,
   "metadata": {},
   "outputs": [],
   "source": [
    "test = dl.loadMnistTest()\n",
    "testdata=[item[1:] for item in test]\n",
    "testlabel=[item[0] for item in test]\n",
    "\n"
   ]
  },
  {
   "cell_type": "code",
   "execution_count": null,
   "metadata": {},
   "outputs": [],
   "source": [
    "print(testdata[1])"
   ]
  },
  {
   "cell_type": "code",
   "execution_count": null,
   "metadata": {},
   "outputs": [],
   "source": [
    "print(logisticRegr.predict(testdata[1].reshape(1,-1)))\n",
    "dl.displayDataImage(test,1)\n",
    "\n",
    "print(logisticRegr.predict(testdata[2].reshape(1,-1)))\n",
    "dl.displayDataImage(test,2)\n",
    "\n",
    "print(logisticRegr.predict(testdata[3].reshape(1,-1)))\n",
    "dl.displayDataImage(test,3)\n",
    "\n",
    "print(logisticRegr.predict(testdata[4].reshape(1,-1)))\n",
    "dl.displayDataImage(test,4)\n",
    "\n",
    "print(logisticRegr.predict(testdata[5].reshape(1,-1)))\n",
    "dl.displayDataImage(test,5)\n",
    "\n",
    "print(logisticRegr.predict(testdata[6].reshape(1,-1)))\n",
    "dl.displayDataImage(test,6)\n",
    "\n",
    "print(logisticRegr.predict(testdata[7].reshape(1,-1)))\n",
    "dl.displayDataImage(test,7)"
   ]
  },
  {
   "cell_type": "code",
   "execution_count": null,
   "metadata": {},
   "outputs": [],
   "source": [
    "filename = 'model/logi-reg-10000.sav'\n",
    "pickle.dump(logisticRegr, open(filename, 'wb'))"
   ]
  },
  {
   "cell_type": "code",
   "execution_count": null,
   "metadata": {},
   "outputs": [],
   "source": [
    "#load\n",
    "filename = 'model/logi-reg-10000.sav'\n",
    "logisticRegr = pickle.load(open(filename, 'rb'))\n"
   ]
  },
  {
   "cell_type": "code",
   "execution_count": null,
   "metadata": {},
   "outputs": [],
   "source": [
    "score = logisticRegr.score(testdata, testlabel)\n"
   ]
  },
  {
   "cell_type": "code",
   "execution_count": null,
   "metadata": {},
   "outputs": [],
   "source": [
    "print(score*100)"
   ]
  }
 ],
 "metadata": {
  "interpreter": {
   "hash": "3fe49c99b56009bff68343db409333e00b6628428c01bbf54799f122b0bed666"
  },
  "kernelspec": {
   "display_name": "Python 3.10.4 ('.venv': venv)",
   "language": "python",
   "name": "python3"
  },
  "language_info": {
   "codemirror_mode": {
    "name": "ipython",
    "version": 3
   },
   "file_extension": ".py",
   "mimetype": "text/x-python",
   "name": "python",
   "nbconvert_exporter": "python",
   "pygments_lexer": "ipython3",
   "version": "3.10.4"
  },
  "orig_nbformat": 4
 },
 "nbformat": 4,
 "nbformat_minor": 2
}
